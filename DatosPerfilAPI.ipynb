{
 "cells": [
  {
   "cell_type": "markdown",
   "id": "b4332774-e79c-4df6-92bd-40decd5ef73d",
   "metadata": {},
   "source": [
    "### Master Periodismo de Datos y Visualización"
   ]
  },
  {
   "cell_type": "markdown",
   "id": "de7868c8-1222-4444-81af-de4c448ce0a2",
   "metadata": {},
   "source": [
    "### Universidad de Alcalá de Henares"
   ]
  },
  {
   "cell_type": "code",
   "execution_count": 6,
   "id": "e613d7e0-3541-4753-804b-5ed0e53f46f4",
   "metadata": {},
   "outputs": [],
   "source": [
    "# Perfil para la web de mpvd.es"
   ]
  },
  {
   "cell_type": "markdown",
   "id": "392eebc9-111f-4991-b520-4e3f810276f4",
   "metadata": {},
   "source": [
    "* __Nombre completo__: Julián Fernando Martínez Vallejo\n",
    "* __Twitter__: @JulianFMartinez\n",
    "* __Correo__: julian.martinez@edu.uah.es\n",
    "* __Intereses__: libertad de expresión, periodismo de datos, investigación, visualización\n",
    "* __Educación Superior Previa__: Comunicación Social y Periodista\n",
    "* __Historial Laboral__: Reportero de La Nueva Prensa"
   ]
  },
  {
   "cell_type": "markdown",
   "id": "918ad665-57ca-4e2f-ba83-026dff246c27",
   "metadata": {},
   "source": [
    "<img src='JFMV.jpg'>"
   ]
  },
  {
   "cell_type": "code",
   "execution_count": null,
   "id": "39c24436-3e7b-4d11-8613-e4fdaf8a01e9",
   "metadata": {},
   "outputs": [],
   "source": []
  }
 ],
 "metadata": {
  "kernelspec": {
   "display_name": "Python 3 (ipykernel)",
   "language": "python",
   "name": "python3"
  },
  "language_info": {
   "codemirror_mode": {
    "name": "ipython",
    "version": 3
   },
   "file_extension": ".py",
   "mimetype": "text/x-python",
   "name": "python",
   "nbconvert_exporter": "python",
   "pygments_lexer": "ipython3",
   "version": "3.9.7"
  }
 },
 "nbformat": 4,
 "nbformat_minor": 5
}
